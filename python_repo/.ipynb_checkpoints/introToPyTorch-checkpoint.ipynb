{
 "cells": [
  {
   "cell_type": "code",
   "execution_count": 1,
   "id": "0cc9725b-53a7-4ec9-b8a6-b00d1a8e1faa",
   "metadata": {},
   "outputs": [],
   "source": [
    "import torch"
   ]
  },
  {
   "cell_type": "code",
   "execution_count": 2,
   "id": "daa44f64-5e2b-4e48-bd73-2d6586e830f1",
   "metadata": {},
   "outputs": [],
   "source": [
    "import numpy as np"
   ]
  },
  {
   "cell_type": "markdown",
   "id": "789965a6-e073-42b5-a613-ab5239fa873e",
   "metadata": {},
   "source": [
    "Tensor Class"
   ]
  },
  {
   "cell_type": "code",
   "execution_count": 4,
   "id": "16647aa0-80b0-4562-9f18-6025493f60bf",
   "metadata": {},
   "outputs": [],
   "source": [
    "t = torch.Tensor()"
   ]
  },
  {
   "cell_type": "code",
   "execution_count": 5,
   "id": "a7a3815b-509d-4bc9-a1a8-27cd5bd1d6e7",
   "metadata": {},
   "outputs": [
    {
     "data": {
      "text/plain": [
       "torch.Tensor"
      ]
     },
     "execution_count": 5,
     "metadata": {},
     "output_type": "execute_result"
    }
   ],
   "source": [
    "type(t)"
   ]
  },
  {
   "cell_type": "code",
   "execution_count": null,
   "id": "51122ce9-3d0e-410e-a286-7571c1f7d44e",
   "metadata": {},
   "outputs": [],
   "source": []
  }
 ],
 "metadata": {
  "kernelspec": {
   "display_name": "Python 3 (ipykernel)",
   "language": "python",
   "name": "python3"
  },
  "language_info": {
   "codemirror_mode": {
    "name": "ipython",
    "version": 3
   },
   "file_extension": ".py",
   "mimetype": "text/x-python",
   "name": "python",
   "nbconvert_exporter": "python",
   "pygments_lexer": "ipython3",
   "version": "3.9.13"
  }
 },
 "nbformat": 4,
 "nbformat_minor": 5
}
